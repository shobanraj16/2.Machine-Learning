{
 "cells": [
  {
   "cell_type": "code",
   "execution_count": 1,
   "id": "8f4e8d16-e5e2-4c3b-8e85-d3c2e03a8d87",
   "metadata": {},
   "outputs": [],
   "source": [
    "import pickle"
   ]
  },
  {
   "cell_type": "code",
   "execution_count": 8,
   "id": "aa158c40-3e4a-438c-ac8a-740d81a96d2f",
   "metadata": {},
   "outputs": [
    {
     "name": "stderr",
     "output_type": "stream",
     "text": [
      "C:\\Anaconda\\Lib\\site-packages\\sklearn\\base.py:493: UserWarning: X does not have valid feature names, but LinearRegression was fitted with feature names\n",
      "  warnings.warn(\n"
     ]
    }
   ],
   "source": [
    "#testing with orgin value \n",
    "loaded_model=pickle.load(open(\"finalized_model_Mul_linear.sav\",'rb'))\n",
    "result=loaded_model.predict([[0,0,0,0,0]]) "
   ]
  },
  {
   "cell_type": "code",
   "execution_count": 9,
   "id": "d81d0500-ee07-41ee-93e9-7f90fc67c54b",
   "metadata": {},
   "outputs": [
    {
     "data": {
      "text/plain": [
       "array([[42403.87087053]])"
      ]
     },
     "execution_count": 9,
     "metadata": {},
     "output_type": "execute_result"
    }
   ],
   "source": [
    "result"
   ]
  },
  {
   "cell_type": "code",
   "execution_count": null,
   "id": "9b45567e-a673-452e-bef1-04270248b2a9",
   "metadata": {},
   "outputs": [],
   "source": []
  }
 ],
 "metadata": {
  "kernelspec": {
   "display_name": "Python 3 (ipykernel)",
   "language": "python",
   "name": "python3"
  },
  "language_info": {
   "codemirror_mode": {
    "name": "ipython",
    "version": 3
   },
   "file_extension": ".py",
   "mimetype": "text/x-python",
   "name": "python",
   "nbconvert_exporter": "python",
   "pygments_lexer": "ipython3",
   "version": "3.12.7"
  }
 },
 "nbformat": 4,
 "nbformat_minor": 5
}
